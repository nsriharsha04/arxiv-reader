{
 "cells": [
  {
   "cell_type": "markdown",
   "id": "b2d856da",
   "metadata": {},
   "source": [
    "## One way to access Arxiv metadata"
   ]
  },
  {
   "cell_type": "markdown",
   "id": "76da9e55",
   "metadata": {},
   "source": [
    "Using the arxiv wrapper for python (install if you don't have it)"
   ]
  },
  {
   "cell_type": "code",
   "execution_count": 1,
   "id": "75225d60",
   "metadata": {},
   "outputs": [],
   "source": [
    "#!pip install arxiv\n",
    "import arxiv"
   ]
  },
  {
   "cell_type": "markdown",
   "id": "ffe1d270",
   "metadata": {},
   "source": [
    "In this notebook, we are demonstrating how to search for the metadata of a paper (given its arxiv ID).\n",
    "\n",
    "You can choose to extract the arxiv metadata some other way as well (as long as you don't use forbidden packages mentioned in the project description)"
   ]
  },
  {
   "cell_type": "code",
   "execution_count": 2,
   "id": "d146d8b3",
   "metadata": {},
   "outputs": [],
   "source": [
    "search = arxiv.Search(id_list=[\"1703.00663\"]) #searching wrt to a paper ID, you can do so much more with the arxiv package\n",
    "# IMPORTANT NOTE : you can also send multiple ids in id_list at once to reduce calls to the web API\n",
    "#Eg : id_list=[\"1703.00001\",\"1703.00002\",...,\"\"1703.99999\"]\n",
    "\n",
    "result = list(search.results()) # search.results is an iterable, need to cast into a list\n",
    "#result will be [] if no paper exists for an id (meaning the ID or IDs does not exist)\n",
    "\n",
    "#I am also initializing a dictionary i will use to store the \n",
    "paper_info = {}"
   ]
  },
  {
   "cell_type": "markdown",
   "id": "92f45046",
   "metadata": {},
   "source": [
    "Below are <i>all</i> the different fields of metadata we can get from arxiv"
   ]
  },
  {
   "cell_type": "code",
   "execution_count": 3,
   "id": "aaa8a108",
   "metadata": {},
   "outputs": [
    {
     "name": "stdout",
     "output_type": "stream",
     "text": [
      "title: Introduction to Nonnegative Matrix Factorization\n",
      "authors: ['Nicolas Gillis']\n",
      "summary/abstract: In this paper, we introduce and provide a short overview of nonnegative\n",
      "matrix factorization (NMF). Several aspects of NMF are discussed, namely, the\n",
      "application in hyperspectral imaging, geometry and uniqueness of NMF solutions,\n",
      "complexity, algorithms, and its link with extended formulations of polyhedra.\n",
      "In order to put NMF into perspective, the more general problem class of\n",
      "constrained low-rank matrix approximation problems is first briefly introduced.\n",
      "comment: 18 pages, 4 figures\n",
      "journal_ref: SIAG/OPT Views and News 25 (1), pp. 7-16 (2017)\n",
      "doi: None\n",
      "entry_id: http://arxiv.org/abs/1703.00663v1\n",
      "last updated: 2017-03-02 08:23:04+00:00\n",
      "original posting date: 2017-03-02 08:23:04+00:00\n",
      "primary category: cs.NA\n",
      "categories: ['cs.NA', 'cs.CV', 'cs.LG', 'math.OC', 'stat.ML']\n",
      "links: [arxiv.Result.Link('http://arxiv.org/abs/1703.00663v1', title=None, rel='alternate', content_type=None), arxiv.Result.Link('http://arxiv.org/pdf/1703.00663v1', title='pdf', rel='related', content_type=None)]\n",
      "pdf_url: http://arxiv.org/pdf/1703.00663v1\n"
     ]
    }
   ],
   "source": [
    "#title of paper\n",
    "#We only have 1 result so access index 0\n",
    "paper_info['title'] = result[0].title\n",
    "print(\"title:\", paper_info['title'])\n",
    "\n",
    "#authors (they have to be taken one by one and converted into string)\n",
    "paper_info['authors'] = []\n",
    "\n",
    "for author in result[0].authors:\n",
    "    paper_info['authors'].append(str(author))\n",
    "\n",
    "print(\"authors:\",paper_info['authors'])\n",
    "\n",
    "#summary (abstract)\n",
    "paper_info['summary'] = result[0].summary\n",
    "print(\"summary/abstract:\",paper_info['summary'])\n",
    "\n",
    "#comment by author\n",
    "paper_info['comment'] = result[0].comment\n",
    "print(\"comment:\",paper_info['comment'])\n",
    "\n",
    "#journal reference (if present)\n",
    "paper_info['journal_ref'] = result[0].journal_ref\n",
    "print(\"journal_ref:\",paper_info['journal_ref'])\n",
    "\n",
    "#DOI (if present)\n",
    "paper_info['doi'] = result[0].doi\n",
    "print(\"doi:\",paper_info['doi'])\n",
    "#entry_id\n",
    "paper_info['entry_id'] = result[0].entry_id\n",
    "print(\"entry_id:\", paper_info['entry_id'])\n",
    "\n",
    "#last upated\n",
    "paper_info['updated'] = str(result[0].updated)\n",
    "print(\"last updated:\",paper_info['updated'])\n",
    "\n",
    "#first published date\n",
    "paper_info['published'] = str(result[0].published)\n",
    "print(\"original posting date:\",paper_info['published'])\n",
    "\n",
    "\n",
    "#Primary category\n",
    "paper_info['primary_category'] = result[0].primary_category\n",
    "print(\"primary category:\", paper_info['primary_category'])\n",
    "\n",
    "#All categories\n",
    "paper_info['categories'] = result[0].categories\n",
    "print(\"categories:\", paper_info['categories'])\n",
    "\n",
    "#links\n",
    "paper_info['links'] =  str(result[0].links)\n",
    "print(\"links:\",paper_info['links'])\n",
    "\n",
    "#pdf_url\n",
    "paper_info['pdf_url'] = result[0].pdf_url\n",
    "print(\"pdf_url:\",paper_info['pdf_url'])"
   ]
  },
  {
   "cell_type": "markdown",
   "id": "1df857d7",
   "metadata": {},
   "source": [
    "If you want to filter the paper to see if it is in our desired primary category, you can check to see<br> <code>if paper_info['primary_category'] in ['cs.LG','cs.AI','cs.CC','cs.AR']:</code>"
   ]
  },
  {
   "cell_type": "markdown",
   "id": "661fd105",
   "metadata": {},
   "source": [
    "Now you can store this dictionary (Or you can make a list of dictionaries for storing metadata for multiple papers)."
   ]
  },
  {
   "cell_type": "code",
   "execution_count": 4,
   "id": "80ca2f45",
   "metadata": {},
   "outputs": [],
   "source": [
    "import json\n",
    "\n",
    "with open('paper_info.json', 'w') as fp:\n",
    "    json.dump(paper_info, fp)"
   ]
  },
  {
   "cell_type": "markdown",
   "id": "0cd0edde",
   "metadata": {},
   "source": [
    "Open the json file to confirm if got everything back"
   ]
  },
  {
   "cell_type": "code",
   "execution_count": 5,
   "id": "f694a722",
   "metadata": {},
   "outputs": [],
   "source": [
    "with open('paper_info.json', 'r') as fp:\n",
    "    paper_info2 = json.load(fp)"
   ]
  },
  {
   "cell_type": "code",
   "execution_count": 6,
   "id": "76aae61c",
   "metadata": {},
   "outputs": [
    {
     "data": {
      "text/plain": [
       "{'title': 'Introduction to Nonnegative Matrix Factorization',\n",
       " 'authors': ['Nicolas Gillis'],\n",
       " 'summary': 'In this paper, we introduce and provide a short overview of nonnegative\\nmatrix factorization (NMF). Several aspects of NMF are discussed, namely, the\\napplication in hyperspectral imaging, geometry and uniqueness of NMF solutions,\\ncomplexity, algorithms, and its link with extended formulations of polyhedra.\\nIn order to put NMF into perspective, the more general problem class of\\nconstrained low-rank matrix approximation problems is first briefly introduced.',\n",
       " 'comment': '18 pages, 4 figures',\n",
       " 'journal_ref': 'SIAG/OPT Views and News 25 (1), pp. 7-16 (2017)',\n",
       " 'doi': None,\n",
       " 'entry_id': 'http://arxiv.org/abs/1703.00663v1',\n",
       " 'updated': '2017-03-02 08:23:04+00:00',\n",
       " 'published': '2017-03-02 08:23:04+00:00',\n",
       " 'primary_category': 'cs.NA',\n",
       " 'categories': ['cs.NA', 'cs.CV', 'cs.LG', 'math.OC', 'stat.ML'],\n",
       " 'links': \"[arxiv.Result.Link('http://arxiv.org/abs/1703.00663v1', title=None, rel='alternate', content_type=None), arxiv.Result.Link('http://arxiv.org/pdf/1703.00663v1', title='pdf', rel='related', content_type=None)]\",\n",
       " 'pdf_url': 'http://arxiv.org/pdf/1703.00663v1'}"
      ]
     },
     "execution_count": 6,
     "metadata": {},
     "output_type": "execute_result"
    }
   ],
   "source": [
    "paper_info2"
   ]
  },
  {
   "cell_type": "code",
   "execution_count": null,
   "id": "b2fadff2",
   "metadata": {},
   "outputs": [],
   "source": []
  },
  {
   "cell_type": "code",
   "execution_count": null,
   "id": "2e793099",
   "metadata": {},
   "outputs": [],
   "source": []
  }
 ],
 "metadata": {
  "kernelspec": {
   "display_name": "Python 3.9.7 64-bit",
   "language": "python",
   "name": "python3"
  },
  "language_info": {
   "codemirror_mode": {
    "name": "ipython",
    "version": 3
   },
   "file_extension": ".py",
   "mimetype": "text/x-python",
   "name": "python",
   "nbconvert_exporter": "python",
   "pygments_lexer": "ipython3",
   "version": "3.9.7 (tags/v3.9.7:1016ef3, Aug 30 2021, 20:19:38) [MSC v.1929 64 bit (AMD64)]"
  },
  "vscode": {
   "interpreter": {
    "hash": "bf4fbbcfb44b62809ee9ef976aff62d8f85ac4ea82e40788fda9594addf376e6"
   }
  }
 },
 "nbformat": 4,
 "nbformat_minor": 5
}
